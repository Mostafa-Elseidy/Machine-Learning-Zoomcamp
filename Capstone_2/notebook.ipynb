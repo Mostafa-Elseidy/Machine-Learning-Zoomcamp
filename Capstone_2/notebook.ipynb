{
 "cells": [
  {
   "attachments": {},
   "cell_type": "markdown",
   "metadata": {},
   "source": [
    "# Collecting Data"
   ]
  },
  {
   "cell_type": "code",
   "execution_count": null,
   "metadata": {},
   "outputs": [],
   "source": [
    "!git clone https://github.com/alexeygrigorev/clothing-dataset-small"
   ]
  },
  {
   "attachments": {},
   "cell_type": "markdown",
   "metadata": {},
   "source": [
    "# Import images"
   ]
  },
  {
   "cell_type": "code",
   "execution_count": null,
   "metadata": {},
   "outputs": [],
   "source": [
    "import numpy as np\n",
    "import matplotlib.pyplot as plt\n",
    "from tensorflow.keras.preprocessing.image import load_img\n",
    "\n",
    "%matplotlib inline"
   ]
  },
  {
   "cell_type": "code",
   "execution_count": null,
   "metadata": {},
   "outputs": [],
   "source": [
    "img = load_img('./clothing-dataset-small/train/t-shirt/5f0a3fa0-6a3d-4b68-b213-72766a643de7.jpg', \n",
    "            target_size=(299, 299))\n",
    "img"
   ]
  },
  {
   "attachments": {},
   "cell_type": "markdown",
   "metadata": {},
   "source": [
    "# Image Data Generator"
   ]
  },
  {
   "cell_type": "code",
   "execution_count": null,
   "metadata": {},
   "outputs": [],
   "source": [
    "from tensorflow.keras.preprocessing.image import ImageDataGenerator\n",
    "\n",
    "data_gen = {}\n",
    "for s in ['train', 'validation', 'test']:\n",
    "  data_gen[s] = ImageDataGenerator(preprocessing_function=preprocess_input, ).flow_from_directory(\n",
    "      f'./clothing-dataset-small/{s}',\n",
    "      target_size=(150, 150),\n",
    "      batch_size=32"
   ]
  },
  {
   "attachments": {},
   "cell_type": "markdown",
   "metadata": {},
   "source": [
    "## Preview images"
   ]
  },
  {
   "cell_type": "code",
   "execution_count": null,
   "metadata": {},
   "outputs": [],
   "source": [
    "import os\n",
    "from skimage import io\n",
    "\n",
    "path_tr = \"/content/clothing-dataset-small/train\"\n",
    "path_val = \"/content/clothing-dataset-small/validation\"\n",
    "\n",
    "for path, title in zip([path_tr, path_val], ['Training images', 'Validation Images']):\n",
    "  img_folders = os.listdir(path)\n",
    "  print(f'{\"---\"*10}\\n{title}')\n",
    "  for i in img_folders:\n",
    "      images_path = os.path.join(path , i)\n",
    "      fig , axs = plt.subplots(1, 5 , figsize = (10 ,8))\n",
    "      fig.suptitle(i, y=0.62, fontsize=12)\n",
    "      for ax in axs:\n",
    "          fname = os.listdir(images_path)\n",
    "          ran = fname[np.random.randint(0 ,len(fname)-1)]\n",
    "          pic = io.imread(os.path.join(images_path , ran))\n",
    "          ax.set_xticks([])\n",
    "          ax.set_yticks([])\n",
    "          ax.imshow(pic)\n",
    "  plt.show();"
   ]
  },
  {
   "cell_type": "code",
   "execution_count": null,
   "metadata": {},
   "outputs": [],
   "source": [
    "data_gen['train'].class_indices"
   ]
  },
  {
   "cell_type": "code",
   "execution_count": null,
   "metadata": {},
   "outputs": [],
   "source": [
    "X, y = next(data_gen['train'])"
   ]
  },
  {
   "attachments": {},
   "cell_type": "markdown",
   "metadata": {},
   "source": [
    "# Transfer Learning"
   ]
  },
  {
   "cell_type": "code",
   "execution_count": null,
   "metadata": {},
   "outputs": [],
   "source": [
    "from tensorflow.keras.applications.xception import Xception, preprocess_input, decode_predictions\n",
    "import tensorflow as tf\n",
    "from tensorflow import keras\n",
    "from sklearn.metrics import classification_report\n",
    "from sklearn.metrics import ConfusionMatrixDisplay\n",
    "from sklearn.metrics import confusion_matrix\n",
    "import matplotlib.pyplot as plt\n",
    "import numpy as np\n",
    "import pandas as pd"
   ]
  },
  {
   "cell_type": "code",
   "execution_count": null,
   "metadata": {},
   "outputs": [],
   "source": [
    "base_model = Xception(\n",
    "    weights='imagenet',\n",
    "    include_top=False,\n",
    "    input_shape=(150, 150, 3)\n",
    ")\n",
    "\n",
    "base_model.trainable = False\n",
    "\n"
   ]
  },
  {
   "cell_type": "code",
   "execution_count": null,
   "metadata": {},
   "outputs": [],
   "source": [
    "inputs = keras.Input(shape=(150, 150, 3))\n",
    "\n",
    "base = base_model(inputs, training=False)\n",
    "pooling = keras.layers.GlobalAveragePooling2D()(base)\n",
    "\n",
    "outputs = keras.layers.Dense(10, activation='linear')(pooling)\n",
    "\n",
    "\n",
    "model = keras.Model(inputs, outputs)\n"
   ]
  },
  {
   "cell_type": "code",
   "execution_count": null,
   "metadata": {},
   "outputs": [],
   "source": [
    "model.summary()"
   ]
  },
  {
   "attachments": {},
   "cell_type": "markdown",
   "metadata": {},
   "source": [
    "## Training"
   ]
  },
  {
   "cell_type": "code",
   "execution_count": null,
   "metadata": {},
   "outputs": [],
   "source": [
    "learning_rate = 0.01\n",
    "optimizer = keras.optimizers.Adam(learning_rate=learning_rate)\n",
    "loss = keras.losses.CategoricalCrossentropy(from_logits=True)\n",
    "\n",
    "model.compile(optimizer=optimizer, loss=loss, metrics=['accuracy'])\n"
   ]
  },
  {
   "cell_type": "code",
   "execution_count": null,
   "metadata": {},
   "outputs": [],
   "source": [
    "history = model.fit(data_gen['train'], epochs=10,\n",
    "                    validation_data=data_gen['validation'])"
   ]
  },
  {
   "cell_type": "code",
   "execution_count": null,
   "metadata": {},
   "outputs": [],
   "source": [
    "history.history.keys()"
   ]
  },
  {
   "cell_type": "code",
   "execution_count": null,
   "metadata": {},
   "outputs": [],
   "source": [
    "for metric in ['accuracy', 'loss']:\n",
    "    plt.plot(np.arange(1, epochs+1), history.history[metric], label='train')\n",
    "    plt.plot(np.arange(1, epochs+1), history.history[f'val_{metric}'], label='val')\n",
    "    plt.xticks(np.arange(1, epochs+1))\n",
    "    plt.legend()\n",
    "    plt.title(metric)\n",
    "    plt.show();"
   ]
  },
  {
   "attachments": {},
   "cell_type": "markdown",
   "metadata": {},
   "source": [
    "## Evaluation"
   ]
  },
  {
   "cell_type": "code",
   "execution_count": null,
   "metadata": {},
   "outputs": [],
   "source": [
    "y_pred_tr = model.predict(data_gen['train'])\n",
    "y_pred_val = model.predict(data_gen['validation'])\n",
    "y_pred_te = model.predict(data_gen['test'])"
   ]
  },
  {
   "cell_type": "code",
   "execution_count": null,
   "metadata": {},
   "outputs": [],
   "source": [
    "def evaluate(ds, y_pred):\n",
    "    y_val = ds.classes\n",
    "    labels = np.array(list(ds.class_indices.keys()))\n",
    "\n",
    "    cm = confusion_matrix(y_val, y_pred.argmax(axis=1))\n",
    "    disp = ConfusionMatrixDisplay(confusion_matrix=cm, display_labels=labels)\n",
    "    disp.plot() # cmap=plt.cm.Blues\n",
    "    plt.show();\n",
    "    \n",
    "    print(classification_report(y_val, y_pred.argmax(axis=1), target_names=labels))"
   ]
  },
  {
   "cell_type": "code",
   "execution_count": null,
   "metadata": {},
   "outputs": [],
   "source": [
    "for data, y_pred in zip(['train', 'validation', 'test'], [y_pred_tr, y_pred_val, y_pred_te]):\n",
    "    print(f\"---------------{data}---------------\")\n",
    "    evaluate(data_gen[data], y_pred)\n",
    "    print()"
   ]
  },
  {
   "cell_type": "code",
   "execution_count": null,
   "metadata": {},
   "outputs": [],
   "source": [
    "train_results = pd.DataFrame({'path':pd.Series(data_gen['train'].filepaths), \n",
    "              'actual':data_gen['train'].classes, \n",
    "              'predicted':y_pred_tr.argmax(axis=1)})\n",
    "train_results.head()"
   ]
  },
  {
   "cell_type": "code",
   "execution_count": null,
   "metadata": {},
   "outputs": [],
   "source": [
    "labels = np.array(list(data_gen['train'].class_indices.keys()))\n",
    "\n",
    "for cls in train_results.actual.unique():\n",
    "    samples = train_results[train_results.actual == cls].sample(5)\n",
    "    fig , axs = plt.subplots(1, 5 , figsize = (10 ,8))\n",
    "    fig.suptitle(labels[cls], y=0.62, fontsize=12)\n",
    "    for i, ax in enumerate(axs):\n",
    "        pic = io.imread(samples.iloc[i,0])\n",
    "        ax.set_xticks([])\n",
    "        ax.set_yticks([])\n",
    "        ax.set_xlabel(f\"Prediction\\n{labels[samples.iloc[i,2]]}\")\n",
    "        ax.imshow(pic);"
   ]
  },
  {
   "cell_type": "code",
   "execution_count": null,
   "metadata": {},
   "outputs": [],
   "source": [
    "model.evaluate(data_gen['test'])\n",
    "# [loss, acc]"
   ]
  },
  {
   "attachments": {},
   "cell_type": "markdown",
   "metadata": {},
   "source": [
    "# Prediction"
   ]
  },
  {
   "attachments": {},
   "cell_type": "markdown",
   "metadata": {},
   "source": [
    "## Predict 1 image"
   ]
  },
  {
   "cell_type": "code",
   "execution_count": null,
   "metadata": {},
   "outputs": [],
   "source": [
    "img = load_img('./clothing-dataset-small/train/t-shirt/5f0a3fa0-6a3d-4b68-b213-72766a643de7.jpg', \n",
    "            target_size=(150, 150))\n",
    "img"
   ]
  },
  {
   "cell_type": "code",
   "execution_count": null,
   "metadata": {},
   "outputs": [],
   "source": [
    "img_arr = np.array(img)\n",
    "img_1 = np.array([img_arr])\n",
    "preprocessed_img_1 = preprocess_input(img_1)\n",
    "img_pred = model.predict(preprocessed_img_1)\n",
    "img_pred"
   ]
  },
  {
   "cell_type": "code",
   "execution_count": null,
   "metadata": {},
   "outputs": [],
   "source": [
    "classes = ['dress',\n",
    "            'hat',\n",
    "            'longsleeve',\n",
    "            'outwear',\n",
    "            'pants',\n",
    "            'shirt',\n",
    "            'shoes',\n",
    "            'shorts',\n",
    "            'skirt',\n",
    "            't-shirt']\n",
    "\n",
    "dict(zip(classes, img_pred[0]))"
   ]
  },
  {
   "attachments": {},
   "cell_type": "markdown",
   "metadata": {},
   "source": [
    "# Save Model"
   ]
  },
  {
   "attachments": {},
   "cell_type": "markdown",
   "metadata": {},
   "source": [
    "## Save Keras model"
   ]
  },
  {
   "cell_type": "code",
   "execution_count": null,
   "metadata": {},
   "outputs": [],
   "source": [
    "model.save_weights('clothes-model.h5', save_format='h5')"
   ]
  },
  {
   "attachments": {},
   "cell_type": "markdown",
   "metadata": {},
   "source": [
    "## Convert Keras to TF-Lite"
   ]
  },
  {
   "cell_type": "code",
   "execution_count": null,
   "metadata": {},
   "outputs": [],
   "source": [
    "converter = tf.lite.TFLiteConverter.from_keras_model(model)\n",
    "tflite_model = converter.convert()\n",
    "\n",
    "with open('clothing-model.tflite', 'wb') as f_out:\n",
    "  f_out.write(tflite_model)"
   ]
  },
  {
   "attachments": {},
   "cell_type": "markdown",
   "metadata": {},
   "source": [
    "## Load tflite"
   ]
  },
  {
   "cell_type": "code",
   "execution_count": null,
   "metadata": {},
   "outputs": [],
   "source": [
    "import tensorflow.lite as tflite\n",
    "# load the tflite model\n",
    "interpreter = tflite.Interpreter(model_path='clothing-model.tflite')\n",
    "# load the weights from the model to memory\n",
    "interpreter.allocate_tensors()"
   ]
  },
  {
   "cell_type": "code",
   "execution_count": null,
   "metadata": {},
   "outputs": [],
   "source": [
    "interpreter.get_input_details()"
   ]
  },
  {
   "cell_type": "code",
   "execution_count": null,
   "metadata": {},
   "outputs": [],
   "source": [
    "input_index = interpreter.get_input_details()[0]['index']\n",
    "output_index = interpreter.get_output_details()[0]['index']\n",
    "# insitialize the input\n",
    "interpreter.set_tensor(input_index, preprocessed_img_1)\n",
    "# invoke the model\n",
    "interpreter.invoke()\n",
    "# collect output\n",
    "pred = interpreter.get_tensor(output_index)\n",
    "pred"
   ]
  },
  {
   "cell_type": "code",
   "execution_count": null,
   "metadata": {},
   "outputs": [],
   "source": [
    "classes = ['dress',\n",
    "            'hat',\n",
    "            'longsleeve',\n",
    "            'outwear',\n",
    "            'pants',\n",
    "            'shirt',\n",
    "            'shoes',\n",
    "            'shorts',\n",
    "            'skirt',\n",
    "            't-shirt']\n",
    "\n",
    "dict(zip(classes, pred[0]))"
   ]
  },
  {
   "attachments": {},
   "cell_type": "markdown",
   "metadata": {},
   "source": [
    "## Remove TF dependency"
   ]
  },
  {
   "cell_type": "code",
   "execution_count": null,
   "metadata": {},
   "outputs": [],
   "source": [
    "# preprocessed_img_1 = preprocess_input(img_1)\n",
    "def preprocess_input_img(x):\n",
    "    x /= 127.5\n",
    "    x -= 1.\n",
    "    return x"
   ]
  },
  {
   "cell_type": "code",
   "execution_count": null,
   "metadata": {},
   "outputs": [],
   "source": [
    "from PIL import Image\n",
    "with Image.open('./clothing-dataset-small/train/t-shirt/5f0a3fa0-6a3d-4b68-b213-72766a643de7.jpg') as img:\n",
    "  img = img.resize((150, 150), Image.NEAREST)\n",
    "\n",
    "img_arr = np.array(img, dtype='float32')\n",
    "img_1 = np.array([img_arr]) \n",
    "preprocessed_img_1 = preprocess_input_img(img_1)"
   ]
  },
  {
   "cell_type": "code",
   "execution_count": null,
   "metadata": {},
   "outputs": [],
   "source": [
    "import tensorflow.lite as tflite\n",
    "# load the tflite model\n",
    "interpreter = tflite.Interpreter(model_path='clothing-model.tflite')\n",
    "# load the weights from the model to memory\n",
    "interpreter.allocate_tensors()"
   ]
  },
  {
   "cell_type": "code",
   "execution_count": null,
   "metadata": {},
   "outputs": [],
   "source": [
    "input_index = interpreter.get_input_details()[0]['index']\n",
    "output_index = interpreter.get_output_details()[0]['index']\n",
    "# insitialize the input\n",
    "interpreter.set_tensor(input_index, preprocessed_img_1)\n",
    "# invoke the model\n",
    "interpreter.invoke()\n",
    "# collect output\n",
    "pred = interpreter.get_tensor(output_index)\n",
    "pred"
   ]
  },
  {
   "cell_type": "code",
   "execution_count": null,
   "metadata": {},
   "outputs": [],
   "source": [
    "classes = ['dress',\n",
    "            'hat',\n",
    "            'longsleeve',\n",
    "            'outwear',\n",
    "            'pants',\n",
    "            'shirt',\n",
    "            'shoes',\n",
    "            'shorts',\n",
    "            'skirt',\n",
    "            't-shirt']\n",
    "\n",
    "dict(zip(classes, pred[0]))"
   ]
  },
  {
   "cell_type": "code",
   "execution_count": null,
   "metadata": {},
   "outputs": [],
   "source": []
  },
  {
   "attachments": {},
   "cell_type": "markdown",
   "metadata": {},
   "source": [
    "# Parameter Tuning"
   ]
  },
  {
   "cell_type": "markdown",
   "metadata": {},
   "source": []
  }
 ],
 "metadata": {
  "language_info": {
   "name": "python"
  },
  "orig_nbformat": 4
 },
 "nbformat": 4,
 "nbformat_minor": 2
}
