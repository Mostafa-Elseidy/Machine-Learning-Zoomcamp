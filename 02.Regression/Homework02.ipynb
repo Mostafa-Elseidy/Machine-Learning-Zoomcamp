{
 "cells": [
  {
   "cell_type": "markdown",
   "metadata": {},
   "source": [
    "<h1><center>Homework 2</center></h1>"
   ]
  },
  {
   "cell_type": "markdown",
   "metadata": {},
   "source": [
    "## Import Libraries"
   ]
  },
  {
   "cell_type": "code",
   "execution_count": 1,
   "metadata": {},
   "outputs": [],
   "source": [
    "import numpy as np\n",
    "import pandas as pd\n",
    "import matplotlib.pyplot as plt\n",
    "import seaborn as sns"
   ]
  },
  {
   "cell_type": "code",
   "execution_count": 2,
   "metadata": {},
   "outputs": [
    {
     "data": {
      "text/html": [
       "<div>\n",
       "<style scoped>\n",
       "    .dataframe tbody tr th:only-of-type {\n",
       "        vertical-align: middle;\n",
       "    }\n",
       "\n",
       "    .dataframe tbody tr th {\n",
       "        vertical-align: top;\n",
       "    }\n",
       "\n",
       "    .dataframe thead th {\n",
       "        text-align: right;\n",
       "    }\n",
       "</style>\n",
       "<table border=\"1\" class=\"dataframe\">\n",
       "  <thead>\n",
       "    <tr style=\"text-align: right;\">\n",
       "      <th></th>\n",
       "      <th>longitude</th>\n",
       "      <th>latitude</th>\n",
       "      <th>housing_median_age</th>\n",
       "      <th>total_rooms</th>\n",
       "      <th>total_bedrooms</th>\n",
       "      <th>population</th>\n",
       "      <th>households</th>\n",
       "      <th>median_income</th>\n",
       "      <th>median_house_value</th>\n",
       "      <th>ocean_proximity</th>\n",
       "    </tr>\n",
       "  </thead>\n",
       "  <tbody>\n",
       "    <tr>\n",
       "      <th>0</th>\n",
       "      <td>-122.23</td>\n",
       "      <td>37.88</td>\n",
       "      <td>41.0</td>\n",
       "      <td>880.0</td>\n",
       "      <td>129.0</td>\n",
       "      <td>322.0</td>\n",
       "      <td>126.0</td>\n",
       "      <td>8.3252</td>\n",
       "      <td>452600.0</td>\n",
       "      <td>NEAR BAY</td>\n",
       "    </tr>\n",
       "    <tr>\n",
       "      <th>1</th>\n",
       "      <td>-122.22</td>\n",
       "      <td>37.86</td>\n",
       "      <td>21.0</td>\n",
       "      <td>7099.0</td>\n",
       "      <td>1106.0</td>\n",
       "      <td>2401.0</td>\n",
       "      <td>1138.0</td>\n",
       "      <td>8.3014</td>\n",
       "      <td>358500.0</td>\n",
       "      <td>NEAR BAY</td>\n",
       "    </tr>\n",
       "    <tr>\n",
       "      <th>2</th>\n",
       "      <td>-122.24</td>\n",
       "      <td>37.85</td>\n",
       "      <td>52.0</td>\n",
       "      <td>1467.0</td>\n",
       "      <td>190.0</td>\n",
       "      <td>496.0</td>\n",
       "      <td>177.0</td>\n",
       "      <td>7.2574</td>\n",
       "      <td>352100.0</td>\n",
       "      <td>NEAR BAY</td>\n",
       "    </tr>\n",
       "    <tr>\n",
       "      <th>3</th>\n",
       "      <td>-122.25</td>\n",
       "      <td>37.85</td>\n",
       "      <td>52.0</td>\n",
       "      <td>1274.0</td>\n",
       "      <td>235.0</td>\n",
       "      <td>558.0</td>\n",
       "      <td>219.0</td>\n",
       "      <td>5.6431</td>\n",
       "      <td>341300.0</td>\n",
       "      <td>NEAR BAY</td>\n",
       "    </tr>\n",
       "    <tr>\n",
       "      <th>4</th>\n",
       "      <td>-122.25</td>\n",
       "      <td>37.85</td>\n",
       "      <td>52.0</td>\n",
       "      <td>1627.0</td>\n",
       "      <td>280.0</td>\n",
       "      <td>565.0</td>\n",
       "      <td>259.0</td>\n",
       "      <td>3.8462</td>\n",
       "      <td>342200.0</td>\n",
       "      <td>NEAR BAY</td>\n",
       "    </tr>\n",
       "  </tbody>\n",
       "</table>\n",
       "</div>"
      ],
      "text/plain": [
       "   longitude  latitude  housing_median_age  total_rooms  total_bedrooms  \\\n",
       "0    -122.23     37.88                41.0        880.0           129.0   \n",
       "1    -122.22     37.86                21.0       7099.0          1106.0   \n",
       "2    -122.24     37.85                52.0       1467.0           190.0   \n",
       "3    -122.25     37.85                52.0       1274.0           235.0   \n",
       "4    -122.25     37.85                52.0       1627.0           280.0   \n",
       "\n",
       "   population  households  median_income  median_house_value ocean_proximity  \n",
       "0       322.0       126.0         8.3252            452600.0        NEAR BAY  \n",
       "1      2401.0      1138.0         8.3014            358500.0        NEAR BAY  \n",
       "2       496.0       177.0         7.2574            352100.0        NEAR BAY  \n",
       "3       558.0       219.0         5.6431            341300.0        NEAR BAY  \n",
       "4       565.0       259.0         3.8462            342200.0        NEAR BAY  "
      ]
     },
     "execution_count": 2,
     "metadata": {},
     "output_type": "execute_result"
    }
   ],
   "source": [
    "df = pd.read_csv(\"housing.csv\")\n",
    "df.head()"
   ]
  },
  {
   "cell_type": "code",
   "execution_count": null,
   "metadata": {},
   "outputs": [],
   "source": [
    "df.columns = df.columns.str.lower().str.replace(' ', '_')"
   ]
  },
  {
   "cell_type": "markdown",
   "metadata": {},
   "source": [
    "## EDA\n"
   ]
  },
  {
   "cell_type": "code",
   "execution_count": 3,
   "metadata": {},
   "outputs": [
    {
     "data": {
      "text/plain": [
       "(20640, 10)"
      ]
     },
     "execution_count": 3,
     "metadata": {},
     "output_type": "execute_result"
    }
   ],
   "source": [
    "df.shape"
   ]
  },
  {
   "cell_type": "code",
   "execution_count": 4,
   "metadata": {},
   "outputs": [
    {
     "data": {
      "image/png": "[encoded data removed]",
      "text/plain": [
       "<Figure size 640x480 with 1 Axes>"
      ]
     },
     "metadata": {},
     "output_type": "display_data"
    }
   ],
   "source": [
    "df.median_house_value.plot.hist(bins=80);"
   ]
  },
  {
   "cell_type": "code",
   "execution_count": 5,
   "metadata": {},
   "outputs": [
    {
     "data": {
      "image/png": "[encoded data removed]",
      "text/plain": [
       "<Figure size 640x480 with 1 Axes>"
      ]
     },
     "metadata": {},
     "output_type": "display_data"
    }
   ],
   "source": [
    "np.log1p(df.median_house_value).plot.hist(bins=80);"
   ]
  },
  {
   "cell_type": "code",
   "execution_count": 6,
   "metadata": {},
   "outputs": [],
   "source": [
    "df.drop('ocean_proximity', axis=1, inplace=True)"
   ]
  },
  {
   "cell_type": "markdown",
   "metadata": {},
   "source": [
    "## Question 1\n",
    "Find a feature with missing values. How many missing values does it have?"
   ]
  },
  {
   "cell_type": "code",
   "execution_count": 7,
   "metadata": {},
   "outputs": [
    {
     "data": {
      "text/plain": [
       "longitude               0\n",
       "latitude                0\n",
       "housing_median_age      0\n",
       "total_rooms             0\n",
       "total_bedrooms        207\n",
       "population              0\n",
       "households              0\n",
       "median_income           0\n",
       "median_house_value      0\n",
       "dtype: int64"
      ]
     },
     "execution_count": 7,
     "metadata": {},
     "output_type": "execute_result"
    }
   ],
   "source": [
    "df.isna().sum()"
   ]
  },
  {
   "cell_type": "markdown",
   "metadata": {},
   "source": [
    "## Question 2\n",
    "What's the median (50% percentile) for variable 'population'?"
   ]
  },
  {
   "cell_type": "code",
   "execution_count": 8,
   "metadata": {},
   "outputs": [
    {
     "data": {
      "text/plain": [
       "1166.0"
      ]
     },
     "execution_count": 8,
     "metadata": {},
     "output_type": "execute_result"
    }
   ],
   "source": [
    "df.population.median()"
   ]
  },
  {
   "cell_type": "markdown",
   "metadata": {},
   "source": [
    "## Split the data\n",
    "- Shuffle the initial dataset, use seed 42.\n",
    "- Split your data in train/val/test sets, with 60%/20%/20% distribution.\n",
    "- Make sure that the target value ('median_house_value') is not in your dataframe.\n",
    "- Apply the log transformation to the median_house_value variable using the np.log1p() function."
   ]
  },
  {
   "cell_type": "code",
   "execution_count": 9,
   "metadata": {},
   "outputs": [],
   "source": [
    "X = df.drop('median_house_value', axis=1)\n",
    "y = df.median_house_value.copy()"
   ]
  },
  {
   "cell_type": "code",
   "execution_count": 10,
   "metadata": {},
   "outputs": [],
   "source": [
    "from sklearn.model_selection import train_test_split\n",
    "\n",
    "X_train, X_vt, y_train, y_vt = train_test_split(X, y, random_state=42, train_size=0.6)\n",
    "X_valid, X_test, y_valid, y_test = train_test_split(X_vt, y_vt, random_state=42, train_size=0.5)"
   ]
  },
  {
   "cell_type": "code",
   "execution_count": 11,
   "metadata": {},
   "outputs": [],
   "source": [
    "y_train, y_valid, y_test = np.log1p(y_train), np.log1p(y_valid), np.log1p(y_test)"
   ]
  },
  {
   "cell_type": "markdown",
   "metadata": {},
   "source": [
    "## Question 3\n",
    "- We need to deal with missing values for the column from Q1.\n",
    "- We have two options: fill it with 0 or with the mean of this variable.\n",
    "- Try both options. For each, train a linear regression model without regularization using the code from the lessons.\n",
    "- For computing the mean, use the training only!\n",
    "- Use the validation dataset to evaluate the models and compare the RMSE of each option.\n",
    "- Round the RMSE scores to 2 decimal digits using round(score, 2)\n",
    "- Which option gives better RMSE?"
   ]
  },
  {
   "cell_type": "code",
   "execution_count": 61,
   "metadata": {},
   "outputs": [
    {
     "name": "stdout",
     "output_type": "stream",
     "text": [
      "{'mean_fit_time': array([0.02229171, 0.00978003, 0.00929489, 0.00946712]), 'std_fit_time': array([0.00736728, 0.00196942, 0.00183026, 0.00153093]), 'mean_score_time': array([0.00447378, 0.00301614, 0.00247283, 0.0028275 ]), 'std_score_time': array([0.00138902, 0.00109276, 0.00059115, 0.0010021 ]), 'param_imputation__fill_value': masked_array(data=[0, 0, None, None],\n",
      "             mask=[False, False, False, False],\n",
      "       fill_value='?',\n",
      "            dtype=object), 'param_imputation__strategy': masked_array(data=['constant', 'mean', 'constant', 'mean'],\n",
      "             mask=[False, False, False, False],\n",
      "       fill_value='?',\n",
      "            dtype=object), 'params': [{'imputation__fill_value': 0, 'imputation__strategy': 'constant'}, {'imputation__fill_value': 0, 'imputation__strategy': 'mean'}, {'imputation__fill_value': None, 'imputation__strategy': 'constant'}, {'imputation__fill_value': None, 'imputation__strategy': 'mean'}], 'split0_test_score': array([-0.32686645, -0.32686645, -0.32686645, -0.32686645]), 'split1_test_score': array([-0.33861483, -0.33861483, -0.33861483, -0.33861483]), 'split2_test_score': array([-0.32797223, -0.32797223, -0.32797223, -0.32797223]), 'split3_test_score': array([-0.3474337, -0.3474337, -0.3474337, -0.3474337]), 'split4_test_score': array([-0.35284346, -0.35284346, -0.35284346, -0.35284346]), 'mean_test_score': array([-0.33874613, -0.33874613, -0.33874613, -0.33874613]), 'std_test_score': array([0.0103095, 0.0103095, 0.0103095, 0.0103095]), 'rank_test_score': array([1, 1, 1, 1], dtype=int32)}\n"
     ]
    }
   ],
   "source": [
    "from sklearn.pipeline import Pipeline\n",
    "from sklearn.impute import SimpleImputer\n",
    "from sklearn.linear_model import LinearRegression\n",
    "from sklearn.metrics import mean_squared_error\n",
    "from sklearn.model_selection import GridSearchCV\n",
    "\n",
    "reg = LinearRegression()\n",
    "imputation = SimpleImputer(missing_values=np.nan)\n",
    "pipe = Pipeline(steps=[('imputation', imputation), ('regressor', reg)])\n",
    "\n",
    "params = {'imputation__strategy': ['constant' ,'mean'], 'imputation__fill_value': [0, None]}\n",
    "cv = GridSearchCV(pipe, param_grid=params, scoring='neg_root_mean_squared_error')\n",
    "\n",
    "cv.fit(X_train, y_train)\n",
    "\n",
    "\n",
    "\n",
    "y_pred = cv.predict(X_valid)\n",
    "\n",
    "\n",
    "rmse_valid = mean_squared_error(y_valid, y_pred, squared=False)\n",
    "round(rmse_valid, 2)\n",
    "\n",
    "print(cv.cv_results_)"
   ]
  },
  {
   "cell_type": "code",
   "execution_count": 62,
   "metadata": {},
   "outputs": [
    {
     "data": {
      "text/plain": [
       "array([-0.33874613, -0.33874613, -0.33874613, -0.33874613])"
      ]
     },
     "execution_count": 62,
     "metadata": {},
     "output_type": "execute_result"
    }
   ],
   "source": [
    "cv.cv_results_['mean_test_score']"
   ]
  },
  {
   "cell_type": "code",
   "execution_count": 47,
   "metadata": {},
   "outputs": [
    {
     "data": {
      "text/plain": [
       "0.35"
      ]
     },
     "execution_count": 47,
     "metadata": {},
     "output_type": "execute_result"
    }
   ],
   "source": [
    "from sklearn.pipeline import Pipeline\n",
    "from sklearn.impute import SimpleImputer\n",
    "from sklearn.linear_model import LinearRegression\n",
    "from sklearn.metrics import mean_squared_error\n",
    "\n",
    "reg = LinearRegression()\n",
    "imputation = SimpleImputer(missing_values=np.nan, strategy='constant', fill_value=0)\n",
    "pipe = Pipeline(steps=[('imputation', imputation), ('regressor', reg)])\n",
    "\n",
    "pipe.fit(X_train, y_train)\n",
    "y_pred = pipe.predict(X_valid)\n",
    "\n",
    "rmse_valid = mean_squared_error(y_valid, y_pred, squared=False)\n",
    "round(rmse_valid, 2)"
   ]
  },
  {
   "cell_type": "code",
   "execution_count": 53,
   "metadata": {},
   "outputs": [
    {
     "data": {
      "text/plain": [
       "0.35"
      ]
     },
     "execution_count": 53,
     "metadata": {},
     "output_type": "execute_result"
    }
   ],
   "source": [
    "from sklearn.pipeline import Pipeline\n",
    "from sklearn.impute import SimpleImputer\n",
    "from sklearn.linear_model import LinearRegression\n",
    "from sklearn.metrics import mean_squared_error\n",
    "\n",
    "reg = LinearRegression()\n",
    "imputation = SimpleImputer(missing_values=np.nan, strategy='mean')\n",
    "pipe = Pipeline(steps=[('imputation', imputation), ('regressor', reg)])\n",
    "\n",
    "pipe.fit(X_train, y_train)\n",
    "y_pred = pipe.predict(X_valid)\n",
    "\n",
    "rmse_valid = mean_squared_error(y_valid, y_pred, squared=False)\n",
    "round(rmse_valid, 2)"
   ]
  },
  {
   "cell_type": "markdown",
   "metadata": {},
   "source": [
    "## Question 4\n",
    "- Now let's train a regularized linear regression.\n",
    "- For this question, fill the NAs with 0.\n",
    "- Try different values of r from this list: [0, 0.000001, 0.0001, 0.001, 0.01, 0.1, 1, 5, 10].\n",
    "- Use RMSE to evaluate the model on the validation dataset.\n",
    "- Round the RMSE scores to 2 decimal digits.\n",
    "- Which r gives the best RMSE?"
   ]
  },
  {
   "cell_type": "code",
   "execution_count": 64,
   "metadata": {},
   "outputs": [
    {
     "name": "stdout",
     "output_type": "stream",
     "text": [
      "0.35\n",
      "-0.33874576039863935\n",
      "{'mean_fit_time': array([0.02616501, 0.01697893, 0.00776796, 0.0056375 , 0.00519762,\n",
      "       0.0057796 , 0.00545888, 0.00587254, 0.00447164]), 'std_fit_time': array([0.00903707, 0.00935932, 0.00110052, 0.00112497, 0.00125808,\n",
      "       0.00125026, 0.00090226, 0.00089344, 0.00018479]), 'mean_score_time': array([0.0026927 , 0.00463047, 0.00312357, 0.00169864, 0.00275445,\n",
      "       0.00180683, 0.00177412, 0.00165677, 0.0020401 ]), 'std_score_time': array([1.84259405e-04, 4.14240928e-03, 1.01107242e-03, 1.86110502e-04,\n",
      "       1.74462129e-03, 4.30272910e-04, 3.65842054e-04, 6.66322561e-05,\n",
      "       9.22063915e-04]), 'param_regressor__alpha': masked_array(data=[0, 1e-06, 0.0001, 0.001, 0.01, 0.1, 1, 5, 10],\n",
      "             mask=[False, False, False, False, False, False, False, False,\n",
      "                   False],\n",
      "       fill_value='?',\n",
      "            dtype=object), 'params': [{'regressor__alpha': 0}, {'regressor__alpha': 1e-06}, {'regressor__alpha': 0.0001}, {'regressor__alpha': 0.001}, {'regressor__alpha': 0.01}, {'regressor__alpha': 0.1}, {'regressor__alpha': 1}, {'regressor__alpha': 5}, {'regressor__alpha': 10}], 'split0_test_score': array([-0.32686645, -0.32686645, -0.32686645, -0.32686645, -0.32686646,\n",
      "       -0.32686658, -0.32686775, -0.32687308, -0.32688008]), 'split1_test_score': array([-0.33861483, -0.33861483, -0.33861483, -0.33861483, -0.33861484,\n",
      "       -0.33861491, -0.33861562, -0.33861895, -0.33862344]), 'split2_test_score': array([-0.32797223, -0.32797223, -0.32797223, -0.32797223, -0.32797224,\n",
      "       -0.32797233, -0.32797317, -0.32797707, -0.32798233]), 'split3_test_score': array([-0.3474337 , -0.3474337 , -0.3474337 , -0.3474337 , -0.34743368,\n",
      "       -0.34743348, -0.34743151, -0.34742295, -0.34741269]), 'split4_test_score': array([-0.35284346, -0.35284346, -0.35284346, -0.35284346, -0.35284344,\n",
      "       -0.35284332, -0.35284208, -0.35283676, -0.3528305 ]), 'mean_test_score': array([-0.33874613, -0.33874613, -0.33874613, -0.33874613, -0.33874613,\n",
      "       -0.33874612, -0.33874603, -0.33874576, -0.33874581]), 'std_test_score': array([0.0103095 , 0.0103095 , 0.0103095 , 0.0103095 , 0.01030949,\n",
      "       0.01030938, 0.01030826, 0.01030331, 0.01029715]), 'rank_test_score': array([9, 8, 7, 6, 5, 4, 3, 1, 2], dtype=int32)}\n"
     ]
    }
   ],
   "source": [
    "from sklearn.pipeline import Pipeline\n",
    "from sklearn.impute import SimpleImputer\n",
    "from sklearn.linear_model import Ridge\n",
    "from sklearn.metrics import mean_squared_error\n",
    "from sklearn.model_selection import GridSearchCV\n",
    "\n",
    "reg = Ridge()\n",
    "imputation = SimpleImputer(missing_values=np.nan, strategy='mean',fill_value=None)\n",
    "pipe = Pipeline(steps=[('imputation', imputation), ('regressor', reg)])\n",
    "\n",
    "params = {'regressor__alpha': [0, 0.000001, 0.0001, 0.001, 0.01, 0.1, 1, 5, 10]}\n",
    "cv = GridSearchCV(pipe, param_grid=params, scoring='neg_root_mean_squared_error')\n",
    "\n",
    "cv.fit(X_train, y_train)\n",
    "\n",
    "\n",
    "\n",
    "y_pred = cv.predict(X_valid)\n",
    "\n",
    "\n",
    "rmse_valid = mean_squared_error(y_valid, y_pred, squared=False)\n",
    "print(round(rmse_valid, 2))\n",
    "print(cv.best_score_)\n",
    "print(cv.cv_results_)"
   ]
  },
  {
   "cell_type": "code",
   "execution_count": 80,
   "metadata": {},
   "outputs": [
    {
     "data": {
      "text/plain": [
       "dict_keys(['mean_fit_time', 'std_fit_time', 'mean_score_time', 'std_score_time', 'param_regressor__alpha', 'params', 'split0_test_score', 'split1_test_score', 'split2_test_score', 'split3_test_score', 'split4_test_score', 'mean_test_score', 'std_test_score', 'rank_test_score'])"
      ]
     },
     "execution_count": 80,
     "metadata": {},
     "output_type": "execute_result"
    }
   ],
   "source": [
    "cv.cv_results_.keys()"
   ]
  },
  {
   "cell_type": "code",
   "execution_count": 98,
   "metadata": {},
   "outputs": [
    {
     "data": {
      "image/png": "[encoded data removed]",
      "text/plain": [
       "<Figure size 640x480 with 1 Axes>"
      ]
     },
     "metadata": {},
     "output_type": "display_data"
    }
   ],
   "source": [
    "plt.plot(cv.cv_results_['param_regressor__alpha'].data , \n",
    "cv.cv_results_['mean_test_score']*-1, marker='o');"
   ]
  },
  {
   "cell_type": "code",
   "execution_count": 95,
   "metadata": {},
   "outputs": [
    {
     "data": {
      "text/plain": [
       "(array([0, 1e-06, 0.0001, 0.001, 0.01, 0.1, 1, 5, 10], dtype=object),\n",
       " array([-0.33874613, -0.33874613, -0.33874613, -0.33874613, -0.33874613,\n",
       "        -0.33874612, -0.33874603, -0.33874576, -0.33874581]))"
      ]
     },
     "execution_count": 95,
     "metadata": {},
     "output_type": "execute_result"
    }
   ],
   "source": [
    "cv.cv_results_['param_regressor__alpha'].data, cv.cv_results_['mean_test_score']"
   ]
  },
  {
   "cell_type": "code",
   "execution_count": null,
   "metadata": {},
   "outputs": [],
   "source": [
    "## Question 5"
   ]
  },
  {
   "cell_type": "code",
   "execution_count": null,
   "metadata": {},
   "outputs": [],
   "source": []
  },
  {
   "cell_type": "code",
   "execution_count": null,
   "metadata": {},
   "outputs": [],
   "source": [
    "## Question 6"
   ]
  },
  {
   "cell_type": "code",
   "execution_count": null,
   "metadata": {},
   "outputs": [],
   "source": []
  }
 ],
 "metadata": {
  "kernelspec": {
   "display_name": "Python 3.9.13 ('ml-zoomcamp')",
   "language": "python",
   "name": "python3"
  },
  "language_info": {
   "codemirror_mode": {
    "name": "ipython",
    "version": 3
   },
   "file_extension": ".py",
   "mimetype": "text/x-python",
   "name": "python",
   "nbconvert_exporter": "python",
   "pygments_lexer": "ipython3",
   "version": "3.9.13"
  },
  "orig_nbformat": 4,
  "vscode": {
   "interpreter": {
    "hash": "8b6342271ee8880126e42fb027a7c1d89b8fe0b11e3313632efbd9fad887548e"
   }
  }
 },
 "nbformat": 4,
 "nbformat_minor": 2
}
